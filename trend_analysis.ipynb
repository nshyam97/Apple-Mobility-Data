{
 "cells": [
  {
   "cell_type": "markdown",
   "source": [
    "# Apple Mobility Trend Analysis\n",
    "#### Author: Nishanth Shyam"
   ],
   "metadata": {
    "collapsed": false
   }
  },
  {
   "cell_type": "markdown",
   "source": [
    "In this notebook, I will be using the data available from: https://www.apple.com/covid19/mobility. I'll be focusing on UK cities but will compare to other major countries and cities to see if there are any trends which are common amongst them."
   ],
   "metadata": {
    "collapsed": false,
    "pycharm": {
     "name": "#%% md\n"
    }
   }
  },
  {
   "cell_type": "code",
   "execution_count": 2,
   "outputs": [],
   "source": [
    "# Install packages\n",
    "import pandas\n",
    "import matplotlib.pyplot as plt\n",
    "\n",
    "# Read the data file\n",
    "mobility_data = pandas.read_csv(\"applemobilitytrends-2020-04-13.csv\")"
   ],
   "metadata": {
    "collapsed": false,
    "pycharm": {
     "name": "#%%\n",
     "is_executing": false
    }
   }
  },
  {
   "cell_type": "markdown",
   "source": [
    "Let's look at the data from the file to get a gauge as to the format and what data we have to work with and can compare."
   ],
   "metadata": {
    "collapsed": false,
    "pycharm": {
     "name": "#%% md\n"
    }
   }
  },
  {
   "cell_type": "code",
   "execution_count": 3,
   "outputs": [
    {
     "data": {
      "text/plain": "         geo_type     region transportation_type  2020-01-13  2020-01-14  \\\n0  country/region    Albania             driving         100       95.30   \n1  country/region    Albania             walking         100      100.68   \n2  country/region  Argentina             driving         100       97.07   \n3  country/region  Argentina             walking         100       95.11   \n4  country/region  Australia             driving         100      102.98   \n\n   2020-01-15  2020-01-16  2020-01-17  2020-01-18  2020-01-19  ...  \\\n0      101.43       97.20      103.55      112.67      104.83  ...   \n1       98.93       98.46      100.85      100.13       82.13  ...   \n2      102.45      111.21      118.45      124.01       95.44  ...   \n3      101.37      112.67      116.72      114.14       84.54  ...   \n4      104.21      108.63      109.08       89.00       99.35  ...   \n\n   2020-04-04  2020-04-05  2020-04-06  2020-04-07  2020-04-08  2020-04-09  \\\n0       20.54       22.54       26.40       26.03       26.43       26.70   \n1       24.90       23.92       31.13       25.80       29.81       28.96   \n2       15.13       11.53       17.24       18.55       19.95       19.80   \n3       10.97        9.12       11.85       13.49       15.51       14.65   \n4       33.34       51.75       53.17       55.01       59.24       33.19   \n\n   2020-04-10  2020-04-11  2020-04-12  2020-04-13  \n0       26.32       25.47       24.89       32.64  \n1       27.29       27.63       29.59       35.52  \n2       16.80       19.40       12.89       21.10  \n3       13.58       15.75       10.45       16.35  \n4       36.00       26.95       31.72       53.14  \n\n[5 rows x 95 columns]",
      "text/html": "<div>\n<style scoped>\n    .dataframe tbody tr th:only-of-type {\n        vertical-align: middle;\n    }\n\n    .dataframe tbody tr th {\n        vertical-align: top;\n    }\n\n    .dataframe thead th {\n        text-align: right;\n    }\n</style>\n<table border=\"1\" class=\"dataframe\">\n  <thead>\n    <tr style=\"text-align: right;\">\n      <th></th>\n      <th>geo_type</th>\n      <th>region</th>\n      <th>transportation_type</th>\n      <th>2020-01-13</th>\n      <th>2020-01-14</th>\n      <th>2020-01-15</th>\n      <th>2020-01-16</th>\n      <th>2020-01-17</th>\n      <th>2020-01-18</th>\n      <th>2020-01-19</th>\n      <th>...</th>\n      <th>2020-04-04</th>\n      <th>2020-04-05</th>\n      <th>2020-04-06</th>\n      <th>2020-04-07</th>\n      <th>2020-04-08</th>\n      <th>2020-04-09</th>\n      <th>2020-04-10</th>\n      <th>2020-04-11</th>\n      <th>2020-04-12</th>\n      <th>2020-04-13</th>\n    </tr>\n  </thead>\n  <tbody>\n    <tr>\n      <th>0</th>\n      <td>country/region</td>\n      <td>Albania</td>\n      <td>driving</td>\n      <td>100</td>\n      <td>95.30</td>\n      <td>101.43</td>\n      <td>97.20</td>\n      <td>103.55</td>\n      <td>112.67</td>\n      <td>104.83</td>\n      <td>...</td>\n      <td>20.54</td>\n      <td>22.54</td>\n      <td>26.40</td>\n      <td>26.03</td>\n      <td>26.43</td>\n      <td>26.70</td>\n      <td>26.32</td>\n      <td>25.47</td>\n      <td>24.89</td>\n      <td>32.64</td>\n    </tr>\n    <tr>\n      <th>1</th>\n      <td>country/region</td>\n      <td>Albania</td>\n      <td>walking</td>\n      <td>100</td>\n      <td>100.68</td>\n      <td>98.93</td>\n      <td>98.46</td>\n      <td>100.85</td>\n      <td>100.13</td>\n      <td>82.13</td>\n      <td>...</td>\n      <td>24.90</td>\n      <td>23.92</td>\n      <td>31.13</td>\n      <td>25.80</td>\n      <td>29.81</td>\n      <td>28.96</td>\n      <td>27.29</td>\n      <td>27.63</td>\n      <td>29.59</td>\n      <td>35.52</td>\n    </tr>\n    <tr>\n      <th>2</th>\n      <td>country/region</td>\n      <td>Argentina</td>\n      <td>driving</td>\n      <td>100</td>\n      <td>97.07</td>\n      <td>102.45</td>\n      <td>111.21</td>\n      <td>118.45</td>\n      <td>124.01</td>\n      <td>95.44</td>\n      <td>...</td>\n      <td>15.13</td>\n      <td>11.53</td>\n      <td>17.24</td>\n      <td>18.55</td>\n      <td>19.95</td>\n      <td>19.80</td>\n      <td>16.80</td>\n      <td>19.40</td>\n      <td>12.89</td>\n      <td>21.10</td>\n    </tr>\n    <tr>\n      <th>3</th>\n      <td>country/region</td>\n      <td>Argentina</td>\n      <td>walking</td>\n      <td>100</td>\n      <td>95.11</td>\n      <td>101.37</td>\n      <td>112.67</td>\n      <td>116.72</td>\n      <td>114.14</td>\n      <td>84.54</td>\n      <td>...</td>\n      <td>10.97</td>\n      <td>9.12</td>\n      <td>11.85</td>\n      <td>13.49</td>\n      <td>15.51</td>\n      <td>14.65</td>\n      <td>13.58</td>\n      <td>15.75</td>\n      <td>10.45</td>\n      <td>16.35</td>\n    </tr>\n    <tr>\n      <th>4</th>\n      <td>country/region</td>\n      <td>Australia</td>\n      <td>driving</td>\n      <td>100</td>\n      <td>102.98</td>\n      <td>104.21</td>\n      <td>108.63</td>\n      <td>109.08</td>\n      <td>89.00</td>\n      <td>99.35</td>\n      <td>...</td>\n      <td>33.34</td>\n      <td>51.75</td>\n      <td>53.17</td>\n      <td>55.01</td>\n      <td>59.24</td>\n      <td>33.19</td>\n      <td>36.00</td>\n      <td>26.95</td>\n      <td>31.72</td>\n      <td>53.14</td>\n    </tr>\n  </tbody>\n</table>\n<p>5 rows × 95 columns</p>\n</div>"
     },
     "metadata": {},
     "output_type": "execute_result",
     "execution_count": 3
    }
   ],
   "source": [
    "mobility_data.head()"
   ],
   "metadata": {
    "collapsed": false,
    "pycharm": {
     "name": "#%%\n",
     "is_executing": false
    }
   }
  },
  {
   "cell_type": "code",
   "execution_count": null,
   "outputs": [],
   "source": [],
   "metadata": {
    "collapsed": false,
    "pycharm": {
     "name": "#%%"
    }
   }
  },
  {
   "cell_type": "code",
   "execution_count": null,
   "outputs": [],
   "source": [],
   "metadata": {
    "collapsed": false,
    "pycharm": {
     "name": "#%%"
    }
   }
  },
  {
   "cell_type": "code",
   "execution_count": null,
   "outputs": [],
   "source": [],
   "metadata": {
    "collapsed": false,
    "pycharm": {
     "name": "#%%"
    }
   }
  },
  {
   "cell_type": "code",
   "execution_count": null,
   "outputs": [],
   "source": [],
   "metadata": {
    "collapsed": false,
    "pycharm": {
     "name": "#%%"
    }
   }
  },
  {
   "cell_type": "markdown",
   "source": [
    "\n"
   ],
   "metadata": {
    "collapsed": false
   }
  }
 ],
 "metadata": {
  "kernelspec": {
   "display_name": "Python 3",
   "language": "python",
   "name": "python3"
  },
  "language_info": {
   "codemirror_mode": {
    "name": "ipython",
    "version": 2
   },
   "file_extension": ".py",
   "mimetype": "text/x-python",
   "name": "python",
   "nbconvert_exporter": "python",
   "pygments_lexer": "ipython2",
   "version": "2.7.6"
  },
  "pycharm": {
   "stem_cell": {
    "cell_type": "raw",
    "source": [],
    "metadata": {
     "collapsed": false
    }
   }
  }
 },
 "nbformat": 4,
 "nbformat_minor": 0
}