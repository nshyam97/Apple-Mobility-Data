{
 "cells": [
  {
   "cell_type": "markdown",
   "source": [
    "# Apple Mobility Trend Analysis\n",
    "### **Author**: Nishanth Shyam"
   ],
   "metadata": {
    "collapsed": false
   }
  },
  {
   "cell_type": "markdown",
   "source": [
    "In this notebook, I will be using the data available from: https://www.apple.com/covid19/mobility. I'll be focusing on UK cities but will compare to other major countries and cities to see if there are any trends which are common amongst them."
   ],
   "metadata": {
    "collapsed": false,
    "pycharm": {
     "name": "#%% md\n"
    }
   }
  },
  {
   "cell_type": "code",
   "execution_count": 2,
   "outputs": [],
   "source": [
    "# Install packages\n",
    "import pandas\n",
    "import matplotlib.pyplot as plt\n",
    "\n",
    "# Read the data file\n",
    "mobility_data = pandas.read_csv(\"applemobilitytrends-2020-04-13.csv\")"
   ],
   "metadata": {
    "collapsed": false,
    "pycharm": {
     "name": "#%%\n",
     "is_executing": false
    }
   }
  },
  {
   "cell_type": "markdown",
   "source": [
    "Let's look at the data from the file to get a gauge as to the format and what data we have to work with and can compare."
   ],
   "metadata": {
    "collapsed": false,
    "pycharm": {
     "name": "#%% md\n"
    }
   }
  },
  {
   "cell_type": "code",
   "execution_count": 3,
   "outputs": [
    {
     "data": {
      "text/plain": "         geo_type     region transportation_type  2020-01-13  2020-01-14  \\\n0  country/region    Albania             driving         100       95.30   \n1  country/region    Albania             walking         100      100.68   \n2  country/region  Argentina             driving         100       97.07   \n3  country/region  Argentina             walking         100       95.11   \n4  country/region  Australia             driving         100      102.98   \n\n   2020-01-15  2020-01-16  2020-01-17  2020-01-18  2020-01-19  ...  \\\n0      101.43       97.20      103.55      112.67      104.83  ...   \n1       98.93       98.46      100.85      100.13       82.13  ...   \n2      102.45      111.21      118.45      124.01       95.44  ...   \n3      101.37      112.67      116.72      114.14       84.54  ...   \n4      104.21      108.63      109.08       89.00       99.35  ...   \n\n   2020-04-04  2020-04-05  2020-04-06  2020-04-07  2020-04-08  2020-04-09  \\\n0       20.54       22.54       26.40       26.03       26.43       26.70   \n1       24.90       23.92       31.13       25.80       29.81       28.96   \n2       15.13       11.53       17.24       18.55       19.95       19.80   \n3       10.97        9.12       11.85       13.49       15.51       14.65   \n4       33.34       51.75       53.17       55.01       59.24       33.19   \n\n   2020-04-10  2020-04-11  2020-04-12  2020-04-13  \n0       26.32       25.47       24.89       32.64  \n1       27.29       27.63       29.59       35.52  \n2       16.80       19.40       12.89       21.10  \n3       13.58       15.75       10.45       16.35  \n4       36.00       26.95       31.72       53.14  \n\n[5 rows x 95 columns]",
      "text/html": "<div>\n<style scoped>\n    .dataframe tbody tr th:only-of-type {\n        vertical-align: middle;\n    }\n\n    .dataframe tbody tr th {\n        vertical-align: top;\n    }\n\n    .dataframe thead th {\n        text-align: right;\n    }\n</style>\n<table border=\"1\" class=\"dataframe\">\n  <thead>\n    <tr style=\"text-align: right;\">\n      <th></th>\n      <th>geo_type</th>\n      <th>region</th>\n      <th>transportation_type</th>\n      <th>2020-01-13</th>\n      <th>2020-01-14</th>\n      <th>2020-01-15</th>\n      <th>2020-01-16</th>\n      <th>2020-01-17</th>\n      <th>2020-01-18</th>\n      <th>2020-01-19</th>\n      <th>...</th>\n      <th>2020-04-04</th>\n      <th>2020-04-05</th>\n      <th>2020-04-06</th>\n      <th>2020-04-07</th>\n      <th>2020-04-08</th>\n      <th>2020-04-09</th>\n      <th>2020-04-10</th>\n      <th>2020-04-11</th>\n      <th>2020-04-12</th>\n      <th>2020-04-13</th>\n    </tr>\n  </thead>\n  <tbody>\n    <tr>\n      <th>0</th>\n      <td>country/region</td>\n      <td>Albania</td>\n      <td>driving</td>\n      <td>100</td>\n      <td>95.30</td>\n      <td>101.43</td>\n      <td>97.20</td>\n      <td>103.55</td>\n      <td>112.67</td>\n      <td>104.83</td>\n      <td>...</td>\n      <td>20.54</td>\n      <td>22.54</td>\n      <td>26.40</td>\n      <td>26.03</td>\n      <td>26.43</td>\n      <td>26.70</td>\n      <td>26.32</td>\n      <td>25.47</td>\n      <td>24.89</td>\n      <td>32.64</td>\n    </tr>\n    <tr>\n      <th>1</th>\n      <td>country/region</td>\n      <td>Albania</td>\n      <td>walking</td>\n      <td>100</td>\n      <td>100.68</td>\n      <td>98.93</td>\n      <td>98.46</td>\n      <td>100.85</td>\n      <td>100.13</td>\n      <td>82.13</td>\n      <td>...</td>\n      <td>24.90</td>\n      <td>23.92</td>\n      <td>31.13</td>\n      <td>25.80</td>\n      <td>29.81</td>\n      <td>28.96</td>\n      <td>27.29</td>\n      <td>27.63</td>\n      <td>29.59</td>\n      <td>35.52</td>\n    </tr>\n    <tr>\n      <th>2</th>\n      <td>country/region</td>\n      <td>Argentina</td>\n      <td>driving</td>\n      <td>100</td>\n      <td>97.07</td>\n      <td>102.45</td>\n      <td>111.21</td>\n      <td>118.45</td>\n      <td>124.01</td>\n      <td>95.44</td>\n      <td>...</td>\n      <td>15.13</td>\n      <td>11.53</td>\n      <td>17.24</td>\n      <td>18.55</td>\n      <td>19.95</td>\n      <td>19.80</td>\n      <td>16.80</td>\n      <td>19.40</td>\n      <td>12.89</td>\n      <td>21.10</td>\n    </tr>\n    <tr>\n      <th>3</th>\n      <td>country/region</td>\n      <td>Argentina</td>\n      <td>walking</td>\n      <td>100</td>\n      <td>95.11</td>\n      <td>101.37</td>\n      <td>112.67</td>\n      <td>116.72</td>\n      <td>114.14</td>\n      <td>84.54</td>\n      <td>...</td>\n      <td>10.97</td>\n      <td>9.12</td>\n      <td>11.85</td>\n      <td>13.49</td>\n      <td>15.51</td>\n      <td>14.65</td>\n      <td>13.58</td>\n      <td>15.75</td>\n      <td>10.45</td>\n      <td>16.35</td>\n    </tr>\n    <tr>\n      <th>4</th>\n      <td>country/region</td>\n      <td>Australia</td>\n      <td>driving</td>\n      <td>100</td>\n      <td>102.98</td>\n      <td>104.21</td>\n      <td>108.63</td>\n      <td>109.08</td>\n      <td>89.00</td>\n      <td>99.35</td>\n      <td>...</td>\n      <td>33.34</td>\n      <td>51.75</td>\n      <td>53.17</td>\n      <td>55.01</td>\n      <td>59.24</td>\n      <td>33.19</td>\n      <td>36.00</td>\n      <td>26.95</td>\n      <td>31.72</td>\n      <td>53.14</td>\n    </tr>\n  </tbody>\n</table>\n<p>5 rows × 95 columns</p>\n</div>"
     },
     "metadata": {},
     "output_type": "execute_result",
     "execution_count": 3
    }
   ],
   "source": [
    "mobility_data.head()"
   ],
   "metadata": {
    "collapsed": false,
    "pycharm": {
     "name": "#%%\n",
     "is_executing": false
    }
   }
  },
  {
   "cell_type": "markdown",
   "source": [
    "As we can see, we have a wide table with all the dates as separate columns. While this was probably the best way to show this data without having region and transportation type repeated multiple times, it doesn't make plotting this data or filtering through this data very useful. We will need to isolate the region and the transportation type and then transpose the date columns to make it possible to plot.\n",
    "\n",
    "Firstly, we will check what regions and transportation types we have available?"
   ],
   "metadata": {
    "collapsed": false
   }
  },
  {
   "cell_type": "code",
   "execution_count": 4,
   "outputs": [
    {
     "data": {
      "text/plain": "array(['driving', 'walking', 'transit'], dtype=object)"
     },
     "metadata": {},
     "output_type": "execute_result",
     "execution_count": 4
    }
   ],
   "source": [
    "mobility_data['transportation_type'].unique()"
   ],
   "metadata": {
    "collapsed": false,
    "pycharm": {
     "name": "#%%\n",
     "is_executing": false
    }
   }
  },
  {
   "cell_type": "code",
   "execution_count": 5,
   "outputs": [
    {
     "data": {
      "text/plain": "array(['Albania', 'Argentina', 'Australia', 'Austria', 'Belgium',\n       'Brazil', 'Bulgaria', 'Cambodia', 'Canada', 'Chile', 'Colombia',\n       'Croatia', 'Czech Republic', 'Denmark', 'Egypt', 'Estonia',\n       'Finland', 'France', 'Germany', 'Greece', 'Hong Kong', 'Hungary',\n       'Iceland', 'India', 'Indonesia', 'Ireland', 'Israel', 'Italy',\n       'Japan', 'Latvia', 'Lithuania', 'Luxembourg', 'Macao', 'Malaysia',\n       'Mexico', 'Morocco', 'Netherlands', 'New Zealand', 'Norway',\n       'Philippines', 'Poland', 'Portugal', 'Republic of Korea',\n       'Romania', 'Russia', 'Saudi Arabia', 'Serbia', 'Singapore',\n       'Slovakia', 'Slovenia', 'South Africa', 'Spain', 'Sweden',\n       'Switzerland', 'Taiwan', 'Thailand', 'Turkey', 'UK',\n       'United States', 'Ukraine', 'United Arab Emirates', 'Uruguay',\n       'Vietnam', 'Amsterdam', 'Athens', 'Atlanta', 'Auckland',\n       'Baltimore', 'Bangkok', 'Barcelona', 'Berlin', 'Birmingham - UK',\n       'Bochum - Dortmund', 'Boston', 'Brisbane', 'Brussels',\n       'Buenos Aires', 'Cairo', 'Calgary', 'Cape Town', 'Chicago',\n       'Cologne', 'Copenhagen', 'Dallas', 'Delhi', 'Denver', 'Detroit',\n       'Dubai', 'Dublin', 'Dusseldorf', 'Edmonton', 'Frankfurt',\n       'Fukuoka', 'Guadalajara', 'Halifax', 'Hamburg', 'Helsinki',\n       'Houston', 'Hsin-chu', 'Istanbul', 'Jakarta', 'Johannesburg',\n       'Kuala Lumpur', 'Leeds', 'Lille', 'London', 'Los Angeles', 'Lyon',\n       'Madrid', 'Manchester', 'Manila', 'Melbourne', 'Mexico City',\n       'Miami', 'Milan', 'Montreal', 'Moscow', 'Mumbai', 'Munich',\n       'Nagoya', 'New York City', 'Osaka', 'Oslo', 'Ottawa', 'Paris',\n       'Perth', 'Philadelphia', 'Rio de Janeiro', 'Riyadh', 'Rome',\n       'Rotterdam', 'Saint Petersburg', 'San Francisco - Bay Area',\n       'Santiago', 'Sao Paulo', 'Seattle', 'Seoul', 'Stockholm',\n       'Stuttgart', 'Sydney', 'Taichung', 'Taipei', 'Tel Aviv', 'Tijuana',\n       'Tokyo', 'Toronto', 'Toulouse', 'Utrecht', 'Vancouver', 'Vienna',\n       'Washington DC', 'Zurich'], dtype=object)"
     },
     "metadata": {},
     "output_type": "execute_result",
     "execution_count": 5
    }
   ],
   "source": [
    "mobility_data['region'].unique()"
   ],
   "metadata": {
    "collapsed": false,
    "pycharm": {
     "name": "#%%\n",
     "is_executing": false
    }
   }
  },
  {
   "cell_type": "code",
   "execution_count": 6,
   "outputs": [
    {
     "data": {
      "text/plain": "152"
     },
     "metadata": {},
     "output_type": "execute_result",
     "execution_count": 6
    }
   ],
   "source": [
    "mobility_data['region'].nunique()"
   ],
   "metadata": {
    "collapsed": false,
    "pycharm": {
     "name": "#%%\n",
     "is_executing": false
    }
   }
  },
  {
   "cell_type": "markdown",
   "source": [
    "We have 3 different transportation types but as we can see from the head of the table, some places do not have transit data. Looking at the region, we have a mix between countries and major cities and a total of 152 unique places. We can see what places actually have the transit data."
   ],
   "metadata": {
    "collapsed": false,
    "pycharm": {
     "name": "#%% md\n"
    }
   }
  },
  {
   "cell_type": "code",
   "execution_count": 7,
   "outputs": [
    {
     "data": {
      "text/plain": "           geo_type          region transportation_type  2020-01-13  \\\n5    country/region       Australia             transit         100   \n10   country/region         Belgium             transit         100   \n13   country/region          Brazil             transit         100   \n20   country/region          Canada             transit         100   \n29   country/region  Czech Republic             transit         100   \n..              ...             ...                 ...         ...   \n379            city        Toulouse             transit         100   \n382            city         Utrecht             transit         100   \n385            city       Vancouver             transit         100   \n390            city   Washington DC             transit         100   \n393            city          Zurich             transit         100   \n\n     2020-01-14  2020-01-15  2020-01-16  2020-01-17  2020-01-18  2020-01-19  \\\n5        101.78      100.64       99.58       98.34       86.97       99.87   \n10        98.67      105.01      105.87      113.55      110.73      100.53   \n13       102.45      104.28      100.20       97.06       81.01       69.05   \n20       100.03       98.01      101.01      105.42       89.65       75.87   \n29        98.02      101.88      103.30      107.22      101.48       92.46   \n..          ...         ...         ...         ...         ...         ...   \n379       93.78      103.04      103.39      110.60      102.12       93.00   \n382      100.14      107.34      105.63      101.60       90.84       80.89   \n385       93.81       86.78       96.86      104.61       96.55       78.93   \n390      100.78      103.92      105.02      112.26       96.01       87.76   \n393      101.51      108.93       97.87      103.91       98.50       93.83   \n\n     ...  2020-04-04  2020-04-05  2020-04-06  2020-04-07  2020-04-08  \\\n5    ...       16.62       21.76       21.20       20.73       21.28   \n10   ...       23.19       25.02       23.97       25.85       26.39   \n13   ...       19.08       17.13       24.12       23.47       23.39   \n20   ...       17.33       16.32       18.84       17.90       18.10   \n29   ...       17.76       22.11       21.14       23.39       24.89   \n..   ...         ...         ...         ...         ...         ...   \n379  ...       19.93       23.32       30.39       27.84       24.59   \n382  ...       20.07       25.17       24.21       26.74       28.45   \n385  ...       18.04       17.69       20.94       19.59       20.15   \n390  ...       16.45       15.54       18.87       17.59       18.79   \n393  ...       27.54       28.69       29.56       31.39       32.01   \n\n     2020-04-09  2020-04-10  2020-04-11  2020-04-12  2020-04-13  \n5         16.63       16.78       13.94       16.51       21.67  \n10        26.70       26.55       27.17       26.24       23.95  \n13        23.16       18.19       19.19       15.71       24.36  \n20        17.74       16.45       16.78       14.93       18.09  \n29        27.48       26.01       26.47       25.43       21.20  \n..          ...         ...         ...         ...         ...  \n379       29.05       29.19       29.26       23.89       26.36  \n382       29.77       27.81       23.74       23.32       26.35  \n385       19.31       19.51       18.63       17.18       19.21  \n390       16.92       17.76       16.99       14.23       17.01  \n393       31.32       31.35       29.18       31.49       32.90  \n\n[91 rows x 95 columns]",
      "text/html": "<div>\n<style scoped>\n    .dataframe tbody tr th:only-of-type {\n        vertical-align: middle;\n    }\n\n    .dataframe tbody tr th {\n        vertical-align: top;\n    }\n\n    .dataframe thead th {\n        text-align: right;\n    }\n</style>\n<table border=\"1\" class=\"dataframe\">\n  <thead>\n    <tr style=\"text-align: right;\">\n      <th></th>\n      <th>geo_type</th>\n      <th>region</th>\n      <th>transportation_type</th>\n      <th>2020-01-13</th>\n      <th>2020-01-14</th>\n      <th>2020-01-15</th>\n      <th>2020-01-16</th>\n      <th>2020-01-17</th>\n      <th>2020-01-18</th>\n      <th>2020-01-19</th>\n      <th>...</th>\n      <th>2020-04-04</th>\n      <th>2020-04-05</th>\n      <th>2020-04-06</th>\n      <th>2020-04-07</th>\n      <th>2020-04-08</th>\n      <th>2020-04-09</th>\n      <th>2020-04-10</th>\n      <th>2020-04-11</th>\n      <th>2020-04-12</th>\n      <th>2020-04-13</th>\n    </tr>\n  </thead>\n  <tbody>\n    <tr>\n      <th>5</th>\n      <td>country/region</td>\n      <td>Australia</td>\n      <td>transit</td>\n      <td>100</td>\n      <td>101.78</td>\n      <td>100.64</td>\n      <td>99.58</td>\n      <td>98.34</td>\n      <td>86.97</td>\n      <td>99.87</td>\n      <td>...</td>\n      <td>16.62</td>\n      <td>21.76</td>\n      <td>21.20</td>\n      <td>20.73</td>\n      <td>21.28</td>\n      <td>16.63</td>\n      <td>16.78</td>\n      <td>13.94</td>\n      <td>16.51</td>\n      <td>21.67</td>\n    </tr>\n    <tr>\n      <th>10</th>\n      <td>country/region</td>\n      <td>Belgium</td>\n      <td>transit</td>\n      <td>100</td>\n      <td>98.67</td>\n      <td>105.01</td>\n      <td>105.87</td>\n      <td>113.55</td>\n      <td>110.73</td>\n      <td>100.53</td>\n      <td>...</td>\n      <td>23.19</td>\n      <td>25.02</td>\n      <td>23.97</td>\n      <td>25.85</td>\n      <td>26.39</td>\n      <td>26.70</td>\n      <td>26.55</td>\n      <td>27.17</td>\n      <td>26.24</td>\n      <td>23.95</td>\n    </tr>\n    <tr>\n      <th>13</th>\n      <td>country/region</td>\n      <td>Brazil</td>\n      <td>transit</td>\n      <td>100</td>\n      <td>102.45</td>\n      <td>104.28</td>\n      <td>100.20</td>\n      <td>97.06</td>\n      <td>81.01</td>\n      <td>69.05</td>\n      <td>...</td>\n      <td>19.08</td>\n      <td>17.13</td>\n      <td>24.12</td>\n      <td>23.47</td>\n      <td>23.39</td>\n      <td>23.16</td>\n      <td>18.19</td>\n      <td>19.19</td>\n      <td>15.71</td>\n      <td>24.36</td>\n    </tr>\n    <tr>\n      <th>20</th>\n      <td>country/region</td>\n      <td>Canada</td>\n      <td>transit</td>\n      <td>100</td>\n      <td>100.03</td>\n      <td>98.01</td>\n      <td>101.01</td>\n      <td>105.42</td>\n      <td>89.65</td>\n      <td>75.87</td>\n      <td>...</td>\n      <td>17.33</td>\n      <td>16.32</td>\n      <td>18.84</td>\n      <td>17.90</td>\n      <td>18.10</td>\n      <td>17.74</td>\n      <td>16.45</td>\n      <td>16.78</td>\n      <td>14.93</td>\n      <td>18.09</td>\n    </tr>\n    <tr>\n      <th>29</th>\n      <td>country/region</td>\n      <td>Czech Republic</td>\n      <td>transit</td>\n      <td>100</td>\n      <td>98.02</td>\n      <td>101.88</td>\n      <td>103.30</td>\n      <td>107.22</td>\n      <td>101.48</td>\n      <td>92.46</td>\n      <td>...</td>\n      <td>17.76</td>\n      <td>22.11</td>\n      <td>21.14</td>\n      <td>23.39</td>\n      <td>24.89</td>\n      <td>27.48</td>\n      <td>26.01</td>\n      <td>26.47</td>\n      <td>25.43</td>\n      <td>21.20</td>\n    </tr>\n    <tr>\n      <th>...</th>\n      <td>...</td>\n      <td>...</td>\n      <td>...</td>\n      <td>...</td>\n      <td>...</td>\n      <td>...</td>\n      <td>...</td>\n      <td>...</td>\n      <td>...</td>\n      <td>...</td>\n      <td>...</td>\n      <td>...</td>\n      <td>...</td>\n      <td>...</td>\n      <td>...</td>\n      <td>...</td>\n      <td>...</td>\n      <td>...</td>\n      <td>...</td>\n      <td>...</td>\n      <td>...</td>\n    </tr>\n    <tr>\n      <th>379</th>\n      <td>city</td>\n      <td>Toulouse</td>\n      <td>transit</td>\n      <td>100</td>\n      <td>93.78</td>\n      <td>103.04</td>\n      <td>103.39</td>\n      <td>110.60</td>\n      <td>102.12</td>\n      <td>93.00</td>\n      <td>...</td>\n      <td>19.93</td>\n      <td>23.32</td>\n      <td>30.39</td>\n      <td>27.84</td>\n      <td>24.59</td>\n      <td>29.05</td>\n      <td>29.19</td>\n      <td>29.26</td>\n      <td>23.89</td>\n      <td>26.36</td>\n    </tr>\n    <tr>\n      <th>382</th>\n      <td>city</td>\n      <td>Utrecht</td>\n      <td>transit</td>\n      <td>100</td>\n      <td>100.14</td>\n      <td>107.34</td>\n      <td>105.63</td>\n      <td>101.60</td>\n      <td>90.84</td>\n      <td>80.89</td>\n      <td>...</td>\n      <td>20.07</td>\n      <td>25.17</td>\n      <td>24.21</td>\n      <td>26.74</td>\n      <td>28.45</td>\n      <td>29.77</td>\n      <td>27.81</td>\n      <td>23.74</td>\n      <td>23.32</td>\n      <td>26.35</td>\n    </tr>\n    <tr>\n      <th>385</th>\n      <td>city</td>\n      <td>Vancouver</td>\n      <td>transit</td>\n      <td>100</td>\n      <td>93.81</td>\n      <td>86.78</td>\n      <td>96.86</td>\n      <td>104.61</td>\n      <td>96.55</td>\n      <td>78.93</td>\n      <td>...</td>\n      <td>18.04</td>\n      <td>17.69</td>\n      <td>20.94</td>\n      <td>19.59</td>\n      <td>20.15</td>\n      <td>19.31</td>\n      <td>19.51</td>\n      <td>18.63</td>\n      <td>17.18</td>\n      <td>19.21</td>\n    </tr>\n    <tr>\n      <th>390</th>\n      <td>city</td>\n      <td>Washington DC</td>\n      <td>transit</td>\n      <td>100</td>\n      <td>100.78</td>\n      <td>103.92</td>\n      <td>105.02</td>\n      <td>112.26</td>\n      <td>96.01</td>\n      <td>87.76</td>\n      <td>...</td>\n      <td>16.45</td>\n      <td>15.54</td>\n      <td>18.87</td>\n      <td>17.59</td>\n      <td>18.79</td>\n      <td>16.92</td>\n      <td>17.76</td>\n      <td>16.99</td>\n      <td>14.23</td>\n      <td>17.01</td>\n    </tr>\n    <tr>\n      <th>393</th>\n      <td>city</td>\n      <td>Zurich</td>\n      <td>transit</td>\n      <td>100</td>\n      <td>101.51</td>\n      <td>108.93</td>\n      <td>97.87</td>\n      <td>103.91</td>\n      <td>98.50</td>\n      <td>93.83</td>\n      <td>...</td>\n      <td>27.54</td>\n      <td>28.69</td>\n      <td>29.56</td>\n      <td>31.39</td>\n      <td>32.01</td>\n      <td>31.32</td>\n      <td>31.35</td>\n      <td>29.18</td>\n      <td>31.49</td>\n      <td>32.90</td>\n    </tr>\n  </tbody>\n</table>\n<p>91 rows × 95 columns</p>\n</div>"
     },
     "metadata": {},
     "output_type": "execute_result",
     "execution_count": 7
    }
   ],
   "source": [
    "mobility_data[mobility_data['transportation_type'] == 'transit']"
   ],
   "metadata": {
    "collapsed": false,
    "pycharm": {
     "name": "#%%\n",
     "is_executing": false
    }
   }
  },
  {
   "cell_type": "markdown",
   "source": [
    "We can see we have 91 out of a total 152 unique regions and they are a mix of countries and cities. By the looks of it, they seem to only show major countries and cities with transit data which makes sense as Apple would not have data for every country or city. This is just something to keep in mind going forward.\n",
    "\n",
    "Now that we know what kind of data we are working with, we can start plotting and comparing different cities and countries using various transportation types. We will start with the  UK cities which I have identified from this dataset. They are: London, Leeds, Birmingham, and Manchester.\n",
    "\n",
    "Firstly I will create a function that will take the city or country and the transportation type and create a separate data frame with the transposed date columns as separate rows and the corresponding values. This will allow us to plot them effectively."
   ],
   "metadata": {
    "collapsed": false,
    "pycharm": {
     "name": "#%% md\n"
    }
   }
  },
  {
   "cell_type": "code",
   "execution_count": 8,
   "outputs": [],
   "source": [
    "# Function to transpose the data. Currently the date values are columns and so we need to make these rows\n",
    "# to make plotting the data easier\n",
    "def transpose_df(region_name, transportation):\n",
    "    # First choose the region and transportation type to create the usable dataframe\n",
    "    df = mobility_data[(mobility_data['region'] == region_name) &\n",
    "                       (mobility_data['transportation_type'] == transportation)]\n",
    "    # Drop the geo_type column as it isn't useful anymore\n",
    "    df = df.drop(['geo_type'], axis=1)\n",
    "    # Pivots the dataframe from a wide to a tall format. Move the Date and Values as separate rows and corresponding\n",
    "    # columns.\n",
    "    df_t = df.melt(['region', 'transportation_type'], var_name='Date', value_name='Value')\n",
    "    # Convert date column to datetime column\n",
    "    df_t.Date = pandas.to_datetime(df_t.Date, format='%Y-%m-%d')\n",
    "    # Make date column the index column to allow for easier plotting\n",
    "    df_t.set_index('Date', inplace=True)\n",
    "    # Values are currently percentages with the first value being the baseline. To make it a change in\n",
    "    # baseline mobility, minus all values by the first value.\n",
    "    df_t.Value = df_t.Value - df_t.Value.iloc[0]\n",
    "    # Round all the values to 2 decimal places\n",
    "    df_t.Value = df_t.Value.round(2)\n",
    "    # Return the finished dataframe, ready to plot\n",
    "    return df_t"
   ],
   "metadata": {
    "collapsed": false,
    "pycharm": {
     "name": "#%%\n",
     "is_executing": false
    }
   }
  },
  {
   "cell_type": "markdown",
   "source": [
    "Now that we have this function, we can use this to create data frames for each of our UK cities so we can compare them graphically. We will be using the 'walking' transportation type initially to compare them all."
   ],
   "metadata": {
    "collapsed": false,
    "pycharm": {
     "name": "#%% md\n"
    }
   }
  },
  {
   "cell_type": "code",
   "execution_count": 9,
   "outputs": [],
   "source": [
    "london = transpose_df('London', 'walking')\n",
    "manchester = transpose_df('Manchester', 'walking')\n",
    "birmingham = transpose_df('Birmingham - UK', 'walking')\n",
    "leeds = transpose_df('Leeds', 'walking')"
   ],
   "metadata": {
    "collapsed": false,
    "pycharm": {
     "name": "#%%\n",
     "is_executing": false
    }
   }
  },
  {
   "cell_type": "code",
   "execution_count": 10,
   "outputs": [
    {
     "data": {
      "text/plain": "            region transportation_type  Value\nDate                                         \n2020-01-13  London             walking   0.00\n2020-01-14  London             walking   8.89\n2020-01-15  London             walking  16.84\n2020-01-16  London             walking  18.82\n2020-01-17  London             walking  32.18",
      "text/html": "<div>\n<style scoped>\n    .dataframe tbody tr th:only-of-type {\n        vertical-align: middle;\n    }\n\n    .dataframe tbody tr th {\n        vertical-align: top;\n    }\n\n    .dataframe thead th {\n        text-align: right;\n    }\n</style>\n<table border=\"1\" class=\"dataframe\">\n  <thead>\n    <tr style=\"text-align: right;\">\n      <th></th>\n      <th>region</th>\n      <th>transportation_type</th>\n      <th>Value</th>\n    </tr>\n    <tr>\n      <th>Date</th>\n      <th></th>\n      <th></th>\n      <th></th>\n    </tr>\n  </thead>\n  <tbody>\n    <tr>\n      <th>2020-01-13</th>\n      <td>London</td>\n      <td>walking</td>\n      <td>0.00</td>\n    </tr>\n    <tr>\n      <th>2020-01-14</th>\n      <td>London</td>\n      <td>walking</td>\n      <td>8.89</td>\n    </tr>\n    <tr>\n      <th>2020-01-15</th>\n      <td>London</td>\n      <td>walking</td>\n      <td>16.84</td>\n    </tr>\n    <tr>\n      <th>2020-01-16</th>\n      <td>London</td>\n      <td>walking</td>\n      <td>18.82</td>\n    </tr>\n    <tr>\n      <th>2020-01-17</th>\n      <td>London</td>\n      <td>walking</td>\n      <td>32.18</td>\n    </tr>\n  </tbody>\n</table>\n</div>"
     },
     "metadata": {},
     "output_type": "execute_result",
     "execution_count": 10
    }
   ],
   "source": [
    "london.head()"
   ],
   "metadata": {
    "collapsed": false,
    "pycharm": {
     "name": "#%%\n",
     "is_executing": false
    }
   }
  },
  {
   "cell_type": "markdown",
   "source": [
    "As we can see from the london data frame example above, we now have a single data column with all the dates as rows and their corresponding values in the Value column. We also keep the region and transportation type columns which causes a lot of duplication but I felt it was better to keep them in there in case someone were to revisit this data frame later on in the code and wanted to know what it was showing. These columns can just as easily be removed as well.\n",
    "\n",
    "Before we plot this data it is important to define what the values actually mean and why we subtracted every value by the first value. From the Apple Mobility Trends Report website, noted above, we see that the value corresponds to the \"relative amount of directions requests per country/region or city compared to a baseline volume on January 13th 2020\". If we look back at the initial view of the data when we first loaded it in, the baseline started at 100 and so by subtracting 100 from every value, we can display the graph as the percentage change from the baseline.\n",
    "\n",
    "Now we can plot this data."
   ],
   "metadata": {
    "collapsed": false,
    "pycharm": {
     "name": "#%% md\n"
    }
   }
  },
  {
   "cell_type": "code",
   "execution_count": 11,
   "outputs": [
    {
     "data": {
      "text/plain": "<Figure size 432x288 with 1 Axes>",
      "image/png": "[encoded data removed]"
     },
     "metadata": {
      "needs_background": "light"
     },
     "output_type": "display_data"
    }
   ],
   "source": [
    "data = [london, leeds, birmingham, manchester]\n",
    "# Iterate through every dataframe passed through this function\n",
    "for frame in data:\n",
    "    # Plot the date against the corresponding value\n",
    "    plt.plot(frame.index, frame['Value'], label=frame['region'][0])\n",
    "\n",
    "plt.legend()\n",
    "plt.xlabel('Date')\n",
    "plt.xticks(rotation=45)\n",
    "plt.ylabel('Percentage change in direction requests (%)')\n",
    "plt.title('Mobility Trend Data for ' + data[0]['transportation_type'][0])\n",
    "# Plot vertical line for when the UK went into lockdown\n",
    "plt.axvline(pandas.Timestamp('2020-03-23'), color='red')\n",
    "plt.show()"
   ],
   "metadata": {
    "collapsed": false,
    "pycharm": {
     "name": "#%%\n",
     "is_executing": false
    }
   }
  },
  {
   "cell_type": "markdown",
   "source": [
    "On the graph, I have identified the date that the UK went into lockdown which was March 23rd 2020. In the run up to the lockdown, we can see that there is a pattern of increases and decreases in direction requests amongst all cities before the significant dip just before March 15th 2020.\n",
    "\n",
    "If we look further into the data we can identify which days saw the sharp increases and which days showed the subsequent decreases. We can also look further into the abnormal dip seen between February 1st 2020 and February 15th 2020 which saw the direction requests dip further than normal.\n",
    "\n",
    "Firstly, we will focus on the cyclical pattern before the significant change. We will look specifically at London and Birmingham as the 2 largest cities of the 4 available in the dataset."
   ],
   "metadata": {
    "collapsed": false
   }
  },
  {
   "cell_type": "code",
   "execution_count": 12,
   "outputs": [
    {
     "data": {
      "text/plain": "            region transportation_type  Value\nDate                                         \n2020-01-18  London             walking  60.29\n2020-01-25  London             walking  62.41\n2020-02-01  London             walking  61.17\n2020-02-08  London             walking  67.80\n2020-02-14  London             walking  50.77\n2020-02-21  London             walking  53.95\n2020-02-22  London             walking  70.22\n2020-02-29  London             walking  53.92\n2020-03-07  London             walking  67.10",
      "text/html": "<div>\n<style scoped>\n    .dataframe tbody tr th:only-of-type {\n        vertical-align: middle;\n    }\n\n    .dataframe tbody tr th {\n        vertical-align: top;\n    }\n\n    .dataframe thead th {\n        text-align: right;\n    }\n</style>\n<table border=\"1\" class=\"dataframe\">\n  <thead>\n    <tr style=\"text-align: right;\">\n      <th></th>\n      <th>region</th>\n      <th>transportation_type</th>\n      <th>Value</th>\n    </tr>\n    <tr>\n      <th>Date</th>\n      <th></th>\n      <th></th>\n      <th></th>\n    </tr>\n  </thead>\n  <tbody>\n    <tr>\n      <th>2020-01-18</th>\n      <td>London</td>\n      <td>walking</td>\n      <td>60.29</td>\n    </tr>\n    <tr>\n      <th>2020-01-25</th>\n      <td>London</td>\n      <td>walking</td>\n      <td>62.41</td>\n    </tr>\n    <tr>\n      <th>2020-02-01</th>\n      <td>London</td>\n      <td>walking</td>\n      <td>61.17</td>\n    </tr>\n    <tr>\n      <th>2020-02-08</th>\n      <td>London</td>\n      <td>walking</td>\n      <td>67.80</td>\n    </tr>\n    <tr>\n      <th>2020-02-14</th>\n      <td>London</td>\n      <td>walking</td>\n      <td>50.77</td>\n    </tr>\n    <tr>\n      <th>2020-02-21</th>\n      <td>London</td>\n      <td>walking</td>\n      <td>53.95</td>\n    </tr>\n    <tr>\n      <th>2020-02-22</th>\n      <td>London</td>\n      <td>walking</td>\n      <td>70.22</td>\n    </tr>\n    <tr>\n      <th>2020-02-29</th>\n      <td>London</td>\n      <td>walking</td>\n      <td>53.92</td>\n    </tr>\n    <tr>\n      <th>2020-03-07</th>\n      <td>London</td>\n      <td>walking</td>\n      <td>67.10</td>\n    </tr>\n  </tbody>\n</table>\n</div>"
     },
     "metadata": {},
     "output_type": "execute_result",
     "execution_count": 12
    }
   ],
   "source": [
    "london[london['Value'] > 50].sort_index()"
   ],
   "metadata": {
    "collapsed": false,
    "pycharm": {
     "name": "#%%\n",
     "is_executing": false
    }
   }
  },
  {
   "cell_type": "code",
   "execution_count": 13,
   "outputs": [
    {
     "data": {
      "text/plain": "                     region transportation_type  Value\nDate                                                  \n2020-01-18  Birmingham - UK             walking  61.21\n2020-01-25  Birmingham - UK             walking  92.10\n2020-02-01  Birmingham - UK             walking  82.14\n2020-02-08  Birmingham - UK             walking  66.45\n2020-02-14  Birmingham - UK             walking  65.71\n2020-02-15  Birmingham - UK             walking  60.79\n2020-02-22  Birmingham - UK             walking  73.57\n2020-02-29  Birmingham - UK             walking  89.70\n2020-03-07  Birmingham - UK             walking  95.42",
      "text/html": "<div>\n<style scoped>\n    .dataframe tbody tr th:only-of-type {\n        vertical-align: middle;\n    }\n\n    .dataframe tbody tr th {\n        vertical-align: top;\n    }\n\n    .dataframe thead th {\n        text-align: right;\n    }\n</style>\n<table border=\"1\" class=\"dataframe\">\n  <thead>\n    <tr style=\"text-align: right;\">\n      <th></th>\n      <th>region</th>\n      <th>transportation_type</th>\n      <th>Value</th>\n    </tr>\n    <tr>\n      <th>Date</th>\n      <th></th>\n      <th></th>\n      <th></th>\n    </tr>\n  </thead>\n  <tbody>\n    <tr>\n      <th>2020-01-18</th>\n      <td>Birmingham - UK</td>\n      <td>walking</td>\n      <td>61.21</td>\n    </tr>\n    <tr>\n      <th>2020-01-25</th>\n      <td>Birmingham - UK</td>\n      <td>walking</td>\n      <td>92.10</td>\n    </tr>\n    <tr>\n      <th>2020-02-01</th>\n      <td>Birmingham - UK</td>\n      <td>walking</td>\n      <td>82.14</td>\n    </tr>\n    <tr>\n      <th>2020-02-08</th>\n      <td>Birmingham - UK</td>\n      <td>walking</td>\n      <td>66.45</td>\n    </tr>\n    <tr>\n      <th>2020-02-14</th>\n      <td>Birmingham - UK</td>\n      <td>walking</td>\n      <td>65.71</td>\n    </tr>\n    <tr>\n      <th>2020-02-15</th>\n      <td>Birmingham - UK</td>\n      <td>walking</td>\n      <td>60.79</td>\n    </tr>\n    <tr>\n      <th>2020-02-22</th>\n      <td>Birmingham - UK</td>\n      <td>walking</td>\n      <td>73.57</td>\n    </tr>\n    <tr>\n      <th>2020-02-29</th>\n      <td>Birmingham - UK</td>\n      <td>walking</td>\n      <td>89.70</td>\n    </tr>\n    <tr>\n      <th>2020-03-07</th>\n      <td>Birmingham - UK</td>\n      <td>walking</td>\n      <td>95.42</td>\n    </tr>\n  </tbody>\n</table>\n</div>"
     },
     "metadata": {},
     "output_type": "execute_result",
     "execution_count": 13
    }
   ],
   "source": [
    "birmingham[birmingham['Value'] > 50].sort_index()"
   ],
   "metadata": {
    "collapsed": false,
    "pycharm": {
     "name": "#%%\n",
     "is_executing": false
    }
   }
  },
  {
   "cell_type": "markdown",
   "source": [
    "To find the days which we have spikes, I've taken a 50% increase as the threshold to look at. We can see that most of the dates for both cities line up and looking at the calendar we can see these dates are all Saturday's. This would make sense as it is the start of the weekend and people and families are most likely to be walking to new places and so will need directions. I would expect the days with the dips to be on a Monday as everyone returns to work but we can confirm this by looking at all the dates before the significant dip at around March 15th 2020 and percentages less than 0."
   ],
   "metadata": {
    "collapsed": false,
    "pycharm": {
     "name": "#%% md\n"
    }
   }
  },
  {
   "cell_type": "code",
   "execution_count": 14,
   "outputs": [
    {
     "data": {
      "text/plain": "            region transportation_type  Value\nDate                                         \n2020-01-13  London             walking   0.00\n2020-01-26  London             walking  -2.84\n2020-02-09  London             walking -23.21\n2020-02-16  London             walking  -3.97\n2020-03-08  London             walking  -3.14\n2020-03-09  London             walking  -2.50\n2020-03-12  London             walking  -1.13",
      "text/html": "<div>\n<style scoped>\n    .dataframe tbody tr th:only-of-type {\n        vertical-align: middle;\n    }\n\n    .dataframe tbody tr th {\n        vertical-align: top;\n    }\n\n    .dataframe thead th {\n        text-align: right;\n    }\n</style>\n<table border=\"1\" class=\"dataframe\">\n  <thead>\n    <tr style=\"text-align: right;\">\n      <th></th>\n      <th>region</th>\n      <th>transportation_type</th>\n      <th>Value</th>\n    </tr>\n    <tr>\n      <th>Date</th>\n      <th></th>\n      <th></th>\n      <th></th>\n    </tr>\n  </thead>\n  <tbody>\n    <tr>\n      <th>2020-01-13</th>\n      <td>London</td>\n      <td>walking</td>\n      <td>0.00</td>\n    </tr>\n    <tr>\n      <th>2020-01-26</th>\n      <td>London</td>\n      <td>walking</td>\n      <td>-2.84</td>\n    </tr>\n    <tr>\n      <th>2020-02-09</th>\n      <td>London</td>\n      <td>walking</td>\n      <td>-23.21</td>\n    </tr>\n    <tr>\n      <th>2020-02-16</th>\n      <td>London</td>\n      <td>walking</td>\n      <td>-3.97</td>\n    </tr>\n    <tr>\n      <th>2020-03-08</th>\n      <td>London</td>\n      <td>walking</td>\n      <td>-3.14</td>\n    </tr>\n    <tr>\n      <th>2020-03-09</th>\n      <td>London</td>\n      <td>walking</td>\n      <td>-2.50</td>\n    </tr>\n    <tr>\n      <th>2020-03-12</th>\n      <td>London</td>\n      <td>walking</td>\n      <td>-1.13</td>\n    </tr>\n  </tbody>\n</table>\n</div>"
     },
     "metadata": {},
     "output_type": "execute_result",
     "execution_count": 14
    }
   ],
   "source": [
    "london[(london['Value'] <= 0) & (london.index < pandas.Timestamp('2020-03-15'))]"
   ],
   "metadata": {
    "collapsed": false,
    "pycharm": {
     "name": "#%%\n",
     "is_executing": false
    }
   }
  },
  {
   "cell_type": "code",
   "execution_count": 15,
   "outputs": [
    {
     "data": {
      "text/plain": "                     region transportation_type  Value\nDate                                                  \n2020-01-13  Birmingham - UK             walking   0.00\n2020-01-19  Birmingham - UK             walking  -1.68\n2020-01-26  Birmingham - UK             walking  -5.85\n2020-02-09  Birmingham - UK             walking -23.77\n2020-02-16  Birmingham - UK             walking  -3.02\n2020-02-23  Birmingham - UK             walking  -4.57\n2020-03-08  Birmingham - UK             walking  -6.96",
      "text/html": "<div>\n<style scoped>\n    .dataframe tbody tr th:only-of-type {\n        vertical-align: middle;\n    }\n\n    .dataframe tbody tr th {\n        vertical-align: top;\n    }\n\n    .dataframe thead th {\n        text-align: right;\n    }\n</style>\n<table border=\"1\" class=\"dataframe\">\n  <thead>\n    <tr style=\"text-align: right;\">\n      <th></th>\n      <th>region</th>\n      <th>transportation_type</th>\n      <th>Value</th>\n    </tr>\n    <tr>\n      <th>Date</th>\n      <th></th>\n      <th></th>\n      <th></th>\n    </tr>\n  </thead>\n  <tbody>\n    <tr>\n      <th>2020-01-13</th>\n      <td>Birmingham - UK</td>\n      <td>walking</td>\n      <td>0.00</td>\n    </tr>\n    <tr>\n      <th>2020-01-19</th>\n      <td>Birmingham - UK</td>\n      <td>walking</td>\n      <td>-1.68</td>\n    </tr>\n    <tr>\n      <th>2020-01-26</th>\n      <td>Birmingham - UK</td>\n      <td>walking</td>\n      <td>-5.85</td>\n    </tr>\n    <tr>\n      <th>2020-02-09</th>\n      <td>Birmingham - UK</td>\n      <td>walking</td>\n      <td>-23.77</td>\n    </tr>\n    <tr>\n      <th>2020-02-16</th>\n      <td>Birmingham - UK</td>\n      <td>walking</td>\n      <td>-3.02</td>\n    </tr>\n    <tr>\n      <th>2020-02-23</th>\n      <td>Birmingham - UK</td>\n      <td>walking</td>\n      <td>-4.57</td>\n    </tr>\n    <tr>\n      <th>2020-03-08</th>\n      <td>Birmingham - UK</td>\n      <td>walking</td>\n      <td>-6.96</td>\n    </tr>\n  </tbody>\n</table>\n</div>"
     },
     "metadata": {},
     "output_type": "execute_result",
     "execution_count": 15
    }
   ],
   "source": [
    "birmingham[(birmingham['Value'] <= 0) & (birmingham.index < pandas.Timestamp('2020-03-15'))]"
   ],
   "metadata": {
    "collapsed": false,
    "pycharm": {
     "name": "#%%\n",
     "is_executing": false
    }
   }
  },
  {
   "cell_type": "markdown",
   "source": [
    "As we can see again, the dates generally line up with each other and they are all Sunday's which makes sense as people get ready for the working week ahead. We can also see that big dip happened on February 9th 2020 for both cities. \n",
    "\n",
    "Looking at headlines and major events that happened on the 9th February, we found that Storm Ciara had reached a peak and the Environment Agency had issued 186 flood alerts, 251 flood warnings, and 1 severe flood warning. Train companies had also issued \"do not travel\" warnings as well as a number of flights and ferries being cancelled. This is the most likely reason to have caused the significant dip as people were urged to stay at home due to the conditions of the storm. You can read more about Storm Ciara on this day [here](https://www.independent.co.uk/travel/news-and-advice/storm-ciara-travel-flights-trains-cancelled-uk-weather-latest-british-airways-easyjet-a9325456.html).\n",
    "\n",
    "We can now look closer at when the major dip on March 15th 2020 before the statewide lockdown that occurred om March 23rd 2020. We want to look at the exact that the dip happened so that we can see what was happening in the news during this time to see what could've caused this major dip. We confirm that March 15th 2020 is the date we need to look at below."
   ],
   "metadata": {
    "collapsed": false,
    "pycharm": {
     "name": "#%% md\n"
    }
   }
  },
  {
   "cell_type": "code",
   "execution_count": 16,
   "outputs": [
    {
     "data": {
      "text/plain": "            region transportation_type  Value\nDate                                         \n2020-03-14  London             walking  17.44\n2020-03-15  London             walking -35.72\n2020-03-16  London             walking -35.47",
      "text/html": "<div>\n<style scoped>\n    .dataframe tbody tr th:only-of-type {\n        vertical-align: middle;\n    }\n\n    .dataframe tbody tr th {\n        vertical-align: top;\n    }\n\n    .dataframe thead th {\n        text-align: right;\n    }\n</style>\n<table border=\"1\" class=\"dataframe\">\n  <thead>\n    <tr style=\"text-align: right;\">\n      <th></th>\n      <th>region</th>\n      <th>transportation_type</th>\n      <th>Value</th>\n    </tr>\n    <tr>\n      <th>Date</th>\n      <th></th>\n      <th></th>\n      <th></th>\n    </tr>\n  </thead>\n  <tbody>\n    <tr>\n      <th>2020-03-14</th>\n      <td>London</td>\n      <td>walking</td>\n      <td>17.44</td>\n    </tr>\n    <tr>\n      <th>2020-03-15</th>\n      <td>London</td>\n      <td>walking</td>\n      <td>-35.72</td>\n    </tr>\n    <tr>\n      <th>2020-03-16</th>\n      <td>London</td>\n      <td>walking</td>\n      <td>-35.47</td>\n    </tr>\n  </tbody>\n</table>\n</div>"
     },
     "metadata": {},
     "output_type": "execute_result",
     "execution_count": 16
    }
   ],
   "source": [
    "london[(london.index >= pandas.Timestamp('2020-03-14')) & (london.index <= pandas.Timestamp('2020-03-16'))]"
   ],
   "metadata": {
    "collapsed": false,
    "pycharm": {
     "name": "#%%\n",
     "is_executing": false
    }
   }
  },
  {
   "cell_type": "code",
   "execution_count": 17,
   "outputs": [
    {
     "data": {
      "text/plain": "                     region transportation_type  Value\nDate                                                  \n2020-03-14  Birmingham - UK             walking  34.46\n2020-03-15  Birmingham - UK             walking -28.91\n2020-03-16  Birmingham - UK             walking -23.71",
      "text/html": "<div>\n<style scoped>\n    .dataframe tbody tr th:only-of-type {\n        vertical-align: middle;\n    }\n\n    .dataframe tbody tr th {\n        vertical-align: top;\n    }\n\n    .dataframe thead th {\n        text-align: right;\n    }\n</style>\n<table border=\"1\" class=\"dataframe\">\n  <thead>\n    <tr style=\"text-align: right;\">\n      <th></th>\n      <th>region</th>\n      <th>transportation_type</th>\n      <th>Value</th>\n    </tr>\n    <tr>\n      <th>Date</th>\n      <th></th>\n      <th></th>\n      <th></th>\n    </tr>\n  </thead>\n  <tbody>\n    <tr>\n      <th>2020-03-14</th>\n      <td>Birmingham - UK</td>\n      <td>walking</td>\n      <td>34.46</td>\n    </tr>\n    <tr>\n      <th>2020-03-15</th>\n      <td>Birmingham - UK</td>\n      <td>walking</td>\n      <td>-28.91</td>\n    </tr>\n    <tr>\n      <th>2020-03-16</th>\n      <td>Birmingham - UK</td>\n      <td>walking</td>\n      <td>-23.71</td>\n    </tr>\n  </tbody>\n</table>\n</div>"
     },
     "metadata": {},
     "output_type": "execute_result",
     "execution_count": 17
    }
   ],
   "source": [
    "birmingham[(birmingham.index >= pandas.Timestamp('2020-03-14')) & (birmingham.index <= pandas.Timestamp('2020-03-16'))]"
   ],
   "metadata": {
    "collapsed": false,
    "pycharm": {
     "name": "#%%\n",
     "is_executing": false
    }
   }
  }
 ],
 "metadata": {
  "kernelspec": {
   "display_name": "Python 3",
   "language": "python",
   "name": "python3"
  },
  "language_info": {
   "codemirror_mode": {
    "name": "ipython",
    "version": 2
   },
   "file_extension": ".py",
   "mimetype": "text/x-python",
   "name": "python",
   "nbconvert_exporter": "python",
   "pygments_lexer": "ipython2",
   "version": "2.7.6"
  },
  "pycharm": {
   "stem_cell": {
    "cell_type": "raw",
    "source": [],
    "metadata": {
     "collapsed": false
    }
   }
  }
 },
 "nbformat": 4,
 "nbformat_minor": 0
}